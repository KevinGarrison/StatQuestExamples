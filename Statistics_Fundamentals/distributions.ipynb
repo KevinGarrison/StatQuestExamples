{
 "cells": [
  {
   "cell_type": "markdown",
   "metadata": {},
   "source": [
    "# Fitting a Distribution to Runners Data "
   ]
  },
  {
   "cell_type": "markdown",
   "metadata": {},
   "source": [
    "### Video: The Main Ideas behind Probability Distributions\n",
    "link: https://www.youtube.com/watch?v=oI3hZJqXJuc"
   ]
  },
  {
   "cell_type": "markdown",
   "metadata": {},
   "source": []
  }
 ],
 "metadata": {
  "language_info": {
   "name": "python"
  }
 },
 "nbformat": 4,
 "nbformat_minor": 2
}
